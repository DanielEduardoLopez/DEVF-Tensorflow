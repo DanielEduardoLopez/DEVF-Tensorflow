{
  "nbformat": 4,
  "nbformat_minor": 0,
  "metadata": {
    "colab": {
      "provenance": []
    },
    "kernelspec": {
      "name": "python3",
      "display_name": "Python 3"
    },
    "language_info": {
      "name": "python"
    }
  },
  "cells": [
    {
      "cell_type": "code",
      "execution_count": null,
      "metadata": {
        "id": "sdX2vyDZocOR"
      },
      "outputs": [],
      "source": [
        "import tensorflow as tf\n",
        "import urllib\n",
        "import zipfile\n",
        "from tensorflow.keras.preprocessing.image import ImageDataGenerator\n",
        "import os\n",
        "from tensorflow.keras.optimizers import RMSprop\n",
        "from tensorflow.keras import Model\n",
        "\n",
        "# Crea un callback para detener el entrenamiento cuando llegue al 85%\n",
        "# Your code here\n",
        "\n",
        "def get_data():\n",
        "    _TRAIN_URL = \"https://storage.googleapis.com/download.tensorflow.org/data/horse-or-human.zip\"\n",
        "    _TEST_URL = \"https://storage.googleapis.com/download.tensorflow.org/data/validation-horse-or-human.zip\"\n",
        "    urllib.request.urlretrieve(_TRAIN_URL, 'horse-or-human.zip')\n",
        "    local_zip = 'horse-or-human.zip'\n",
        "    zip_ref = zipfile.ZipFile(local_zip, 'r')\n",
        "    zip_ref.extractall('data/horse-or-human/')\n",
        "    zip_ref.close()\n",
        "    urllib.request.urlretrieve(_TEST_URL, 'testdata.zip')\n",
        "    local_zip = 'testdata.zip'\n",
        "    zip_ref = zipfile.ZipFile(local_zip, 'r')\n",
        "    zip_ref.extractall('data/testdata/')\n",
        "    zip_ref.close()\n",
        "\n",
        "def solution_model():\n",
        "    train_dir = 'data/horse-or-human'\n",
        "    validation_dir = 'data/testdata'\n",
        "\n",
        "    print('total training horses images :', len(os.listdir(os.path.join(train_dir, 'horses'))))\n",
        "    print('total training humans images :', len(os.listdir(os.path.join(train_dir, 'humans'))))\n",
        "    print('total validation horses images :', len(os.listdir(os.path.join(validation_dir, 'horses'))))\n",
        "    print('total validation humans images :', len(os.listdir(os.path.join(validation_dir, 'humans'))))\n",
        "\n",
        "    # Carga los datos mediante ImageDataGenerator\n",
        "    # Your code here\n",
        "\n",
        "    train_datagen = ImageDataGenerator(\n",
        "                                  #rotation_range = 180,\n",
        "                                  rescale=1./255,\n",
        "                                  #shear_range=0.2,\n",
        "                                  #zoom_range=0.2,        \n",
        "                                  #fill_mode='nearest',\n",
        "                                  #horizontal_flip=True,\n",
        "                                  #vertical_flip=True,\n",
        "                                  )\n",
        "    \n",
        "    test_datagen = ImageDataGenerator(rescale=1./255)\n",
        "\n",
        "    batch_size = 10\n",
        "\n",
        "    train_generator = train_datagen.flow_from_directory('/content/data/horse-or-human/',\n",
        "                                                    target_size = (300, 300),\n",
        "                                                    batch_size = batch_size,                                                    \n",
        "                                                    class_mode = 'binary'                                                 \n",
        "                                                    )\n",
        "\n",
        "    validation_generator = test_datagen.flow_from_directory('/content/data/testdata',\n",
        "                                                target_size = (300, 300),\n",
        "                                                batch_size = batch_size,                                                \n",
        "                                                class_mode = 'binary'                                                  \n",
        "                                                )\n",
        "\n",
        "    model = tf.keras.models.Sequential([\n",
        "        # Note the input shape specified on your first layer must be (300,300,3)\n",
        "        # Your Code here\n",
        "        tf.keras.layers.Conv2D(filters = 32,kernel_size = (3, 3), # Convolution layer\n",
        "                      input_shape = (300, 300, 3), activation = \"relu\"),\n",
        "\n",
        "        tf.keras.layers.MaxPooling2D(pool_size = (2,2)),\n",
        "\n",
        "        tf.keras.layers.Flatten(),\n",
        "\n",
        "        tf.keras.layers.Dense(units = 256, activation = \"relu\"),\n",
        "\n",
        "        tf.keras.layers.Dense(units = 1, activation=\"sigmoid\")\n",
        "        \n",
        "    ])\n",
        "\n",
        "    model.compile(loss='binary_crossentropy',\n",
        "                  optimizer=RMSprop(lr=1e-4),\n",
        "                  metrics=['accuracy'])\n",
        "    \n",
        "    class myCallback(tf.keras.callbacks.Callback):\n",
        "        def on_epoch_end(self, epoch, logs={}):\n",
        "          '''\n",
        "          Halts the training after reaching 85 percent accuracy\n",
        "\n",
        "          Args:\n",
        "            epoch (integer) - index of epoch (required but unused in the function definition below)\n",
        "            logs (dict) - metric results from the training epoch\n",
        "          '''\n",
        "\n",
        "          # Check accuracy\n",
        "          if(logs.get('accuracy') >= 0.85):\n",
        "\n",
        "            # Stop if threshold is met\n",
        "            print(\"\\nAccuracy is greater than 0.85, so cancelling training!\")\n",
        "            self.model.stop_training = True\n",
        "\n",
        "    callbacks = myCallback()\n",
        "\n",
        "    model.fit(train_generator, \n",
        "              epochs=10,\n",
        "              steps_per_epoch=20, # 6000 img / 20 = 300 img == batch_size\n",
        "              validation_data=validation_generator,\n",
        "              verbose=1,\n",
        "              validation_steps=10,\n",
        "              callbacks=[callbacks])\n",
        "\n",
        "    return model"
      ]
    },
    {
      "cell_type": "code",
      "source": [
        "if __name__ == '__main__':    \n",
        "    get_data()\n",
        "    model = solution_model()"
      ],
      "metadata": {
        "id": "LOPiTvmKpho-",
        "colab": {
          "base_uri": "https://localhost:8080/"
        },
        "outputId": "cf82b24d-890c-485f-d8c7-c6b0a293f9cd"
      },
      "execution_count": null,
      "outputs": [
        {
          "output_type": "stream",
          "name": "stdout",
          "text": [
            "total training horses images : 500\n",
            "total training humans images : 527\n",
            "total validation horses images : 128\n",
            "total validation humans images : 128\n",
            "Found 1027 images belonging to 2 classes.\n",
            "Found 256 images belonging to 2 classes.\n"
          ]
        },
        {
          "output_type": "stream",
          "name": "stderr",
          "text": [
            "WARNING:absl:`lr` is deprecated in Keras optimizer, please use `learning_rate` or use the legacy optimizer, e.g.,tf.keras.optimizers.legacy.RMSprop.\n"
          ]
        },
        {
          "output_type": "stream",
          "name": "stdout",
          "text": [
            "Epoch 1/10\n",
            "20/20 [==============================] - 73s 4s/step - loss: 77.0269 - accuracy: 0.5200 - val_loss: 28.2594 - val_accuracy: 0.4400\n",
            "Epoch 2/10\n",
            "20/20 [==============================] - 70s 4s/step - loss: 8.2082 - accuracy: 0.6250 - val_loss: 27.6932 - val_accuracy: 0.4800\n",
            "Epoch 3/10\n",
            "20/20 [==============================] - 71s 4s/step - loss: 2.6919 - accuracy: 0.7050 - val_loss: 5.0850 - val_accuracy: 0.5300\n",
            "Epoch 4/10\n",
            "20/20 [==============================] - ETA: 0s - loss: 0.3673 - accuracy: 0.8985\n",
            "Accuracy is greater than 0.85, so cancelling training!\n",
            "20/20 [==============================] - 73s 4s/step - loss: 0.3673 - accuracy: 0.8985 - val_loss: 0.9453 - val_accuracy: 0.7300\n"
          ]
        }
      ]
    },
    {
      "cell_type": "code",
      "source": [],
      "metadata": {
        "id": "vLx28REGTmUH"
      },
      "execution_count": null,
      "outputs": []
    }
  ]
}