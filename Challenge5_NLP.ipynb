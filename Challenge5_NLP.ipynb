{
  "cells": [
    {
      "attachments": {},
      "cell_type": "markdown",
      "metadata": {
        "id": "dBYOOlm8TFfu"
      },
      "source": [
        "##### Copyright 2019 The TensorFlow Authors."
      ]
    },
    {
      "cell_type": "code",
      "execution_count": 1,
      "metadata": {
        "id": "zX4Kg8DUTKWO"
      },
      "outputs": [],
      "source": [
        "#@title Licensed under the Apache License, Version 2.0 (the \"License\");\n",
        "# you may not use this file except in compliance with the License.\n",
        "# You may obtain a copy of the License at\n",
        "#\n",
        "# https://www.apache.org/licenses/LICENSE-2.0\n",
        "#\n",
        "# Unless required by applicable law or agreed to in writing, software\n",
        "# distributed under the License is distributed on an \"AS IS\" BASIS,\n",
        "# WITHOUT WARRANTIES OR CONDITIONS OF ANY KIND, either express or implied.\n",
        "# See the License for the specific language governing permissions and\n",
        "# limitations under the License."
      ]
    },
    {
      "attachments": {},
      "cell_type": "markdown",
      "metadata": {
        "id": "-mx-T6SJTFfv"
      },
      "source": [
        "**Note:** This notebook can run using TensorFlow 2.5.0"
      ]
    },
    {
      "cell_type": "code",
      "execution_count": 2,
      "metadata": {
        "id": "dbp5Amp9TFfv"
      },
      "outputs": [],
      "source": [
        "#!pip install tensorflow==2.5.0"
      ]
    },
    {
      "cell_type": "code",
      "execution_count": 3,
      "metadata": {
        "colab": {
          "base_uri": "https://localhost:8080/"
        },
        "id": "gnwiOnGyW5JK",
        "outputId": "7a45324d-7960-426a-d20d-a25e4075a906"
      },
      "outputs": [],
      "source": [
        "import csv\n",
        "import tensorflow as tf\n",
        "import numpy as np\n",
        "from tensorflow.keras.preprocessing.text import Tokenizer\n",
        "from tensorflow.keras.preprocessing.sequence import pad_sequences\n",
        "\n",
        "# bbc-text.csv\n",
        "# !gdown --id 1rX10xeI3eUJmOLsc4pOPY6AnCLO8DxNj"
      ]
    },
    {
      "cell_type": "code",
      "execution_count": 10,
      "metadata": {
        "id": "EYo6A4v5ZABQ"
      },
      "outputs": [],
      "source": [
        "vocab_size = 1000\n",
        "embedding_dim = 16\n",
        "max_length = 120\n",
        "trunc_type = 'post'\n",
        "padding_type = 'post'\n",
        "oov_tok = '<OOV>'\n",
        "training_portion = .8"
      ]
    },
    {
      "cell_type": "code",
      "execution_count": 5,
      "metadata": {
        "colab": {
          "base_uri": "https://localhost:8080/"
        },
        "id": "iU1qq3_SZBx_",
        "outputId": "18d01084-3c90-493a-c876-15421d1a3d5c"
      },
      "outputs": [
        {
          "name": "stdout",
          "output_type": "stream",
          "text": [
            "153\n"
          ]
        }
      ],
      "source": [
        "sentences = []\n",
        "labels = []\n",
        "stopwords = [ \"a\", \"about\", \"above\", \"after\", \"again\", \"against\", \"all\", \"am\", \"an\", \"and\", \"any\", \"are\", \"as\", \"at\", \"be\", \"because\", \"been\", \"before\", \"being\", \"below\", \"between\", \"both\", \"but\", \"by\", \"could\", \"did\", \"do\", \"does\", \"doing\", \"down\", \"during\", \"each\", \"few\", \"for\", \"from\", \"further\", \"had\", \"has\", \"have\", \"having\", \"he\", \"he'd\", \"he'll\", \"he's\", \"her\", \"here\", \"here's\", \"hers\", \"herself\", \"him\", \"himself\", \"his\", \"how\", \"how's\", \"i\", \"i'd\", \"i'll\", \"i'm\", \"i've\", \"if\", \"in\", \"into\", \"is\", \"it\", \"it's\", \"its\", \"itself\", \"let's\", \"me\", \"more\", \"most\", \"my\", \"myself\", \"nor\", \"of\", \"on\", \"once\", \"only\", \"or\", \"other\", \"ought\", \"our\", \"ours\", \"ourselves\", \"out\", \"over\", \"own\", \"same\", \"she\", \"she'd\", \"she'll\", \"she's\", \"should\", \"so\", \"some\", \"such\", \"than\", \"that\", \"that's\", \"the\", \"their\", \"theirs\", \"them\", \"themselves\", \"then\", \"there\", \"there's\", \"these\", \"they\", \"they'd\", \"they'll\", \"they're\", \"they've\", \"this\", \"those\", \"through\", \"to\", \"too\", \"under\", \"until\", \"up\", \"very\", \"was\", \"we\", \"we'd\", \"we'll\", \"we're\", \"we've\", \"were\", \"what\", \"what's\", \"when\", \"when's\", \"where\", \"where's\", \"which\", \"while\", \"who\", \"who's\", \"whom\", \"why\", \"why's\", \"with\", \"would\", \"you\", \"you'd\", \"you'll\", \"you're\", \"you've\", \"your\", \"yours\", \"yourself\", \"yourselves\" ]\n",
        "print(len(stopwords))\n",
        "# Expected Output\n",
        "# 153"
      ]
    },
    {
      "cell_type": "code",
      "execution_count": 6,
      "metadata": {
        "colab": {
          "base_uri": "https://localhost:8080/"
        },
        "id": "eutB2xMiZD0e",
        "outputId": "947d6060-f5d5-42de-906f-0df950e49f89"
      },
      "outputs": [
        {
          "name": "stdout",
          "output_type": "stream",
          "text": [
            "2225\n",
            "2225\n",
            "tv future hands viewers home theatre systems plasma high-definition tvs digital video recorders moving living room way people watch tv will radically different five years time. according expert panel gathered annual consumer electronics show las vegas discuss new technologies will impact one favourite pastimes. us leading trend programmes content will delivered viewers via home networks cable satellite telecoms companies broadband service providers front rooms portable devices. one talked-about technologies ces digital personal video recorders (dvr pvr). set-top boxes like us s tivo uk s sky+ system allow people record store play pause forward wind tv programmes want. essentially technology allows much personalised tv. also built-in high-definition tv sets big business japan us slower take off europe lack high-definition programming. not can people forward wind adverts can also forget abiding network channel schedules putting together a-la-carte entertainment. us networks cable satellite companies worried means terms advertising revenues well brand identity viewer loyalty channels. although us leads technology moment also concern raised europe particularly growing uptake services like sky+. happens today will see nine months years time uk adam hume bbc broadcast s futurologist told bbc news website. likes bbc no issues lost advertising revenue yet. pressing issue moment commercial uk broadcasters brand loyalty important everyone. will talking content brands rather network brands said tim hanlon brand communications firm starcom mediavest. reality broadband connections anybody can producer content. added: challenge now hard promote programme much choice. means said stacey jolna senior vice president tv guide tv group way people find content want watch simplified tv viewers. means networks us terms channels take leaf google s book search engine future instead scheduler help people find want watch. kind channel model might work younger ipod generation used taking control gadgets play them. might not suit everyone panel recognised. older generations comfortable familiar schedules channel brands know getting. perhaps not want much choice put hands mr hanlon suggested. end kids just diapers pushing buttons already - everything possible available said mr hanlon. ultimately consumer will tell market want. 50 000 new gadgets technologies showcased ces many enhancing tv-watching experience. high-definition tv sets everywhere many new models lcd (liquid crystal display) tvs launched dvr capability built instead external boxes. one example launched show humax s 26-inch lcd tv 80-hour tivo dvr dvd recorder. one us s biggest satellite tv companies directtv even launched branded dvr show 100-hours recording capability instant replay search function. set can pause rewind tv 90 hours. microsoft chief bill gates announced pre-show keynote speech partnership tivo called tivotogo means people can play recorded programmes windows pcs mobile devices. reflect increasing trend freeing multimedia people can watch want want.\n"
          ]
        }
      ],
      "source": [
        "with open(\"./bbc-text.csv\", 'r') as csvfile:\n",
        "    ### START CODE HERE\n",
        "    csv_reader = csv.reader(csvfile, delimiter=',')\n",
        "    # Nos saltamos la primera línea (nombres de columnas)\n",
        "    next(csv_reader)\n",
        "    for row in csv_reader:\n",
        "        labels.append(row[0])\n",
        "        splitted_words = row[1].split()\n",
        "        cleaned_words = [word for word in splitted_words if word not in stopwords]\n",
        "        cleaned_string = ' '.join(cleaned_words)\n",
        "        sentences.append(cleaned_string)\n",
        "    \n",
        "    for row in csvfile:\n",
        "      sentences.append(row[1])\n",
        "      labels.append(row[0])\n",
        "    ### END CODE HERE\n",
        "\n",
        "    \n",
        "print(len(labels))\n",
        "print(len(sentences))\n",
        "print(sentences[0])\n",
        "# Expected Output\n",
        "# 2225\n",
        "# 2225\n",
        "# tv future hands viewers home theatre systems  plasma high-definition tvs  digital video recorders moving living room  way people watch tv will radically different five years  time.  according expert panel gathered annual consumer electronics show las vegas discuss new technologies will impact one favourite pastimes. us leading trend  programmes content will delivered viewers via home networks  cable  satellite  telecoms companies  broadband service providers front rooms portable devices.  one talked-about technologies ces digital personal video recorders (dvr pvr). set-top boxes  like us s tivo uk s sky+ system  allow people record  store  play  pause forward wind tv programmes want.  essentially  technology allows much personalised tv. also built-in high-definition tv sets  big business japan us  slower take off europe lack high-definition programming. not can people forward wind adverts  can also forget abiding network channel schedules  putting together a-la-carte entertainment. us networks cable satellite companies worried means terms advertising revenues well  brand identity  viewer loyalty channels. although us leads technology moment  also concern raised europe  particularly growing uptake services like sky+.  happens today  will see nine months years  time uk   adam hume  bbc broadcast s futurologist told bbc news website. likes bbc  no issues lost advertising revenue yet. pressing issue moment commercial uk broadcasters  brand loyalty important everyone.  will talking content brands rather network brands   said tim hanlon  brand communications firm starcom mediavest.  reality broadband connections  anybody can producer content.  added:  challenge now hard promote programme much choice.   means  said stacey jolna  senior vice president tv guide tv group  way people find content want watch simplified tv viewers. means networks  us terms  channels take leaf google s book search engine future  instead scheduler help people find want watch. kind channel model might work younger ipod generation used taking control gadgets play them. might not suit everyone  panel recognised. older generations comfortable familiar schedules channel brands know getting. perhaps not want much choice put hands  mr hanlon suggested.  end  kids just diapers pushing buttons already - everything possible available   said mr hanlon.  ultimately  consumer will tell market want.   50 000 new gadgets technologies showcased ces  many enhancing tv-watching experience. high-definition tv sets everywhere many new models lcd (liquid crystal display) tvs launched dvr capability built  instead external boxes. one example launched show humax s 26-inch lcd tv 80-hour tivo dvr dvd recorder. one us s biggest satellite tv companies  directtv  even launched branded dvr show 100-hours recording capability  instant replay  search function. set can pause rewind tv 90 hours. microsoft chief bill gates announced pre-show keynote speech partnership tivo  called tivotogo  means people can play recorded programmes windows pcs mobile devices. reflect increasing trend freeing multimedia people can watch want  want."
      ]
    },
    {
      "cell_type": "code",
      "execution_count": 14,
      "metadata": {
        "id": "XfdaWh06ZGe3"
      },
      "outputs": [
        {
          "name": "stdout",
          "output_type": "stream",
          "text": [
            "1780\n",
            "1780\n",
            "1780\n",
            "445\n",
            "445\n"
          ]
        }
      ],
      "source": [
        "import random\n",
        "train_size = int(round(len(sentences)*0.8,0)) # YOUR CODE HERE # Obtener el 80% de oraciones para entrenamiento\n",
        "\n",
        "random.seed(123)\n",
        "random.shuffle(sentences)\n",
        "random.shuffle(labels)\n",
        "train_sentences = sentences[:train_size] # YOUR CODE HERE\n",
        "train_labels = labels[:train_size] # YOUR CODE HERE\n",
        "\n",
        "validation_sentences = sentences[train_size:]# YOUR CODE HERE # Aquí va el 20% restante\n",
        "validation_labels = labels[train_size:]# YOUR CODE HERE\n",
        "\n",
        "print(train_size)\n",
        "print(len(train_sentences))\n",
        "print(len(train_labels))\n",
        "print(len(validation_sentences))\n",
        "print(len(validation_labels))\n",
        "\n",
        "# Expected output (if training_portion=.8)\n",
        "# 1780\n",
        "# 1780\n",
        "# 1780\n",
        "# 445\n",
        "# 445"
      ]
    },
    {
      "cell_type": "code",
      "execution_count": 15,
      "metadata": {
        "id": "ULzA8xhwZI22"
      },
      "outputs": [
        {
          "name": "stdout",
          "output_type": "stream",
          "text": [
            "254\n",
            "120\n",
            "144\n",
            "120\n",
            "158\n",
            "120\n"
          ]
        }
      ],
      "source": [
        "tokenizer = Tokenizer(num_words=vocab_size, oov_token=oov_tok) # YOUR CODE HERE\n",
        "tokenizer.fit_on_texts(train_sentences)# YOUR CODE HERE)\n",
        "word_index = tokenizer.word_index # YOUR CODE HERE\n",
        "\n",
        "train_sequences = tokenizer.texts_to_sequences(train_sentences) # YOUR CODE HERE\n",
        "train_padded = pad_sequences(train_sequences, maxlen=max_length,\n",
        "                             padding=padding_type) # YOUR CODE HERE\n",
        "\n",
        "print(len(train_sequences[0]))\n",
        "print(len(train_padded[0]))\n",
        "\n",
        "print(len(train_sequences[1]))\n",
        "print(len(train_padded[1]))\n",
        "\n",
        "print(len(train_sequences[10]))\n",
        "print(len(train_padded[10]))\n",
        "\n",
        "# Expected Ouput\n",
        "# 449\n",
        "# 120\n",
        "# 200\n",
        "# 120\n",
        "# 192\n",
        "# 120"
      ]
    },
    {
      "cell_type": "code",
      "execution_count": 16,
      "metadata": {
        "id": "c8PeFWzPZLW_"
      },
      "outputs": [
        {
          "name": "stdout",
          "output_type": "stream",
          "text": [
            "445\n",
            "(445, 120)\n"
          ]
        }
      ],
      "source": [
        "validation_sequences = tokenizer.texts_to_sequences(validation_sentences)# YOUR CODE HERE\n",
        "validation_padded = pad_sequences(validation_sequences, maxlen=max_length,\n",
        "                             padding=padding_type)# YOUR CODE HERE\n",
        "\n",
        "print(len(validation_sequences))\n",
        "print(validation_padded.shape)\n",
        "\n",
        "# Expected output\n",
        "# 445\n",
        "# (445, 120)"
      ]
    },
    {
      "cell_type": "code",
      "execution_count": 18,
      "metadata": {
        "id": "XkWiQ_FKZNp2"
      },
      "outputs": [
        {
          "name": "stdout",
          "output_type": "stream",
          "text": [
            "[787]\n",
            "[1]\n",
            "[1]\n",
            "[1]\n",
            "[1]\n",
            "[787]\n"
          ]
        }
      ],
      "source": [
        "label_tokenizer = Tokenizer(num_words=vocab_size, oov_token=oov_tok)# YOUR CODE HERE\n",
        "label_tokenizer.fit_on_texts(train_labels)# YOUR CODE HERE)\n",
        "\n",
        "training_label_seq = tokenizer.texts_to_sequences(train_labels)# YOUR CODE HERE\n",
        "validation_label_seq = tokenizer.texts_to_sequences(validation_labels)# YOUR CODE HERE\n",
        "\n",
        "print(training_label_seq[0])\n",
        "print(training_label_seq[1])\n",
        "print(training_label_seq[2])\n",
        "#print(training_label_seq.shape)\n",
        "\n",
        "print(validation_label_seq[0])\n",
        "print(validation_label_seq[1])\n",
        "print(validation_label_seq[2])\n",
        "#print(validation_label_seq.shape)\n",
        "\n",
        "# Expected output\n",
        "# [4]\n",
        "# [2]\n",
        "# [1]\n",
        "# (1780, 1)\n",
        "# [5]\n",
        "# [4]\n",
        "# [3]\n",
        "# (445, 1)"
      ]
    },
    {
      "cell_type": "code",
      "execution_count": null,
      "metadata": {
        "id": "HZ5um4MWZP-W"
      },
      "outputs": [],
      "source": [
        "model = tf.keras.Sequential([\n",
        "  tf.keras.layers.Embedding(vocab_size, 16, input_length=max_length),\n",
        "  tf.keras.layers.GlobalAvgPool1D(),\n",
        "  tf.keras.layers.Dense(24, activation='relu'),\n",
        "  tf.keras.layers.Dense(6, activation='softmax')\n",
        "])\n",
        "model.compile(loss='sparse_categorical_crossentropy',optimizer='adam',metrics=['accuracy'])\n",
        "model.summary()\n",
        "\n",
        "# Expected Output\n",
        "# Layer (type)                 Output Shape              Param #   \n",
        "# =================================================================\n",
        "# embedding (Embedding)        (None, 120, 16)           16000     \n",
        "# _________________________________________________________________\n",
        "# global_average_pooling1d (Gl (None, 16)                0         \n",
        "# _________________________________________________________________\n",
        "# dense (Dense)                (None, 24)                408       \n",
        "# _________________________________________________________________\n",
        "# dense_1 (Dense)              (None, 6)                 150       \n",
        "# =================================================================\n",
        "# Total params: 16,558\n",
        "# Trainable params: 16,558\n",
        "# Non-trainable params: 0"
      ]
    },
    {
      "cell_type": "code",
      "execution_count": null,
      "metadata": {
        "id": "XsfdxySKZSXu"
      },
      "outputs": [],
      "source": [
        "num_epochs = 30\n",
        "history = model.fit(\n",
        "    loss='sparse_categorical_crossentropy',optimizer='adam',metrics=['accuracy']\n",
        "    )"
      ]
    },
    {
      "cell_type": "code",
      "execution_count": null,
      "metadata": {
        "id": "dQ0BX2apXS9u"
      },
      "outputs": [],
      "source": [
        "import matplotlib.pyplot as plt\n",
        "\n",
        "\n",
        "def plot_graphs(history, string):\n",
        "  plt.plot(history.history[string])\n",
        "  plt.plot(history.history['val_'+string])\n",
        "  plt.xlabel(\"Epochs\")\n",
        "  plt.ylabel(string)\n",
        "  plt.legend([string, 'val_'+string])\n",
        "  plt.show()\n",
        "  \n",
        "plot_graphs(history, \"acc\")\n",
        "plot_graphs(history, \"loss\")"
      ]
    },
    {
      "attachments": {},
      "cell_type": "markdown",
      "metadata": {
        "id": "Z65OOsaZABkE"
      },
      "source": [
        "### Resultado esperado\n",
        "\n",
        "Nota: tus gráficas pueden diferir ligeramente pero es importar observar que no exista overfitting evidente.\n",
        "\n",
        "![image.png](data:image/png;base64,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)\n",
        "\n",
        "![image.png](data:image/png;base64,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)"
      ]
    }
  ],
  "metadata": {
    "accelerator": "GPU",
    "colab": {
      "provenance": []
    },
    "kernelspec": {
      "display_name": "Python 3",
      "language": "python",
      "name": "python3"
    },
    "language_info": {
      "codemirror_mode": {
        "name": "ipython",
        "version": 3
      },
      "file_extension": ".py",
      "mimetype": "text/x-python",
      "name": "python",
      "nbconvert_exporter": "python",
      "pygments_lexer": "ipython3",
      "version": "3.8.11"
    }
  },
  "nbformat": 4,
  "nbformat_minor": 0
}
