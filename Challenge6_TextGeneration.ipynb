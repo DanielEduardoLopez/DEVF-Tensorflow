{
  "cells": [
    {
      "cell_type": "code",
      "execution_count": 3,
      "metadata": {},
      "outputs": [],
      "source": [
        "from tensorflow.keras.preprocessing.sequence import pad_sequences\n",
        "from tensorflow.keras.layers import Embedding, LSTM, Dense, Dropout, Bidirectional\n",
        "from tensorflow.keras.preprocessing.text import Tokenizer\n",
        "from tensorflow.keras.models import Sequential\n",
        "from tensorflow.keras.optimizers import Adam\n",
        "# Figure out how to import regularizers\n",
        "from tensorflow.keras import regularizers\n",
        "###\n",
        "import tensorflow.keras.utils as ku \n",
        "import numpy as np"
      ]
    },
    {
      "cell_type": "code",
      "execution_count": 1,
      "metadata": {},
      "outputs": [],
      "source": [
        "# sonnets.txt\n",
        "# !gdown --id 108jAePKK4R3BVYBbYJZ32JWUwxeMg20K\n",
        "\n",
        "data = open('./sonnets.txt').read()\n",
        "\n",
        "corpus = data.lower().split(\"\\n\")"
      ]
    },
    {
      "cell_type": "code",
      "execution_count": 4,
      "metadata": {},
      "outputs": [
        {
          "data": {
            "text/plain": [
              "3211"
            ]
          },
          "execution_count": 4,
          "metadata": {},
          "output_type": "execute_result"
        }
      ],
      "source": [
        "tokenizer = Tokenizer()\n",
        "tokenizer.fit_on_texts(corpus) # Obtenemos los tokens para todas las palabras en el archivo\n",
        "total_words = len(tokenizer.word_index) + 1 # A partir de aquí, ya tenemos un índice de palabra con su token asociado\n",
        "total_words"
      ]
    },
    {
      "cell_type": "code",
      "execution_count": 5,
      "metadata": {},
      "outputs": [],
      "source": [
        "# create input sequences using list of tokens\n",
        "input_sequences = []\n",
        "for line in corpus:\n",
        "\t# Aquí convertimos cada texto a secuencias de texto, básicamente hacemos listas de palabras dentro de una lista más\n",
        "\t# grande pero reemplazando las palabras por tokens\n",
        "\ttoken_list = tokenizer.texts_to_sequences([line])[0]\n",
        "\tfor i in range(1, len(token_list)):\n",
        "\t\tn_gram_sequence = token_list[:i+1]\n",
        "\t\tinput_sequences.append(n_gram_sequence) # Aquí obtenemos todas las longitudes posibles para cada línea, de tal\n",
        "\t\t# manera que podamos entrenar con todas las variantes, por ejemplo:\n",
        "\t\t\"\"\"\n",
        "\t\tInicial: Hola a todos\n",
        "\t\tTamaño 2: Ho\n",
        "\t\tTamaño 3: Hol\n",
        "\t\tTamaño 4: Hola\n",
        "\t\t...\n",
        "\t\t\"\"\""
      ]
    },
    {
      "cell_type": "code",
      "execution_count": 6,
      "metadata": {},
      "outputs": [
        {
          "data": {
            "text/plain": [
              "[34, 417]"
            ]
          },
          "execution_count": 6,
          "metadata": {},
          "output_type": "execute_result"
        }
      ],
      "source": [
        "input_sequences[0]"
      ]
    },
    {
      "cell_type": "code",
      "execution_count": 7,
      "metadata": {},
      "outputs": [],
      "source": [
        "# pad sequences \n",
        "max_sequence_len = max([len(x) for x in input_sequences])\n",
        "input_sequences = np.array(pad_sequences(input_sequences, maxlen=max_sequence_len, padding='pre'))"
      ]
    },
    {
      "cell_type": "code",
      "execution_count": 8,
      "metadata": {},
      "outputs": [],
      "source": [
        "# create predictors and label\n",
        "predictors, label = input_sequences[:,:-1],input_sequences[:,-1]\n",
        "\n",
        "label = ku.to_categorical(label, num_classes=total_words)"
      ]
    },
    {
      "cell_type": "code",
      "execution_count": null,
      "metadata": {},
      "outputs": [],
      "source": [
        "\n",
        "\"\"\"\n",
        "Construye una red neuronal que utilice al menos:\n",
        "1 capa de Embedding\n",
        "1 capa de LSTM Bidirectional\n",
        "1 capa de Dropout\n",
        "1 capa de LSTM\n",
        "1 capa oculta con regularizadores de la siguiente forma:\n",
        "\n",
        "model.add(Dense(total_words/2,\n",
        "\t\t\t\tkernel_regularizer=regularizers.l1_l2(l1=1e-5, l2=1e-4),\n",
        "\t\t\t\tbias_regularizer=regularizers.l2(1e-4),\n",
        "\t\t\t\tactivity_regularizer=regularizers.l2(1e-5),\n",
        "\t\t\t\tactivation='relu'))\n",
        "    \n",
        "1 capa de salida de tamaño total_words\n",
        "\"\"\"\n",
        "### START CODE HERE\n",
        "model = Sequential(\n",
        "    Embedding(total_words, 100, input_length=max_sequence_len-1), \n",
        "    Bidirectional(LSTM(150)),\n",
        "    Dense(activation='relu')\n",
        "    Dropout(10),\n",
        "    Dense(total_words, activation='softmax'),\n",
        "    \n",
        ")\n",
        "\n",
        "# Pick an optimizer\n",
        "\n",
        "### END CODE HERE\n",
        "\n",
        "print(model.summary())"
      ]
    },
    {
      "cell_type": "code",
      "execution_count": null,
      "metadata": {},
      "outputs": [],
      "source": [
        "history = model.fit(predictors, label, epochs=100, verbose=1)"
      ]
    },
    {
      "cell_type": "code",
      "execution_count": null,
      "metadata": {},
      "outputs": [],
      "source": [
        "import matplotlib.pyplot as plt\n",
        "acc = history.history['accuracy']\n",
        "loss = history.history['loss']\n",
        "\n",
        "epochs = range(len(acc))\n",
        "\n",
        "plt.plot(epochs, acc, 'b', label='Training accuracy')\n",
        "plt.title('Training accuracy')\n",
        "\n",
        "plt.figure()\n",
        "\n",
        "plt.plot(epochs, loss, 'b', label='Training Loss')\n",
        "plt.title('Training loss')\n",
        "plt.legend()\n",
        "\n",
        "plt.show()"
      ]
    },
    {
      "cell_type": "code",
      "execution_count": null,
      "metadata": {
        "id": "tUVjfM8JDJt4"
      },
      "outputs": [],
      "source": [
        "\"\"\"\n",
        "Construye un ciclo que te permita tokenizar la frase de entrada (seed_text) y obtener\n",
        "la cantidad de palabras siguientes dada por next_words\n",
        "\n",
        "Recuerda utilizar model.predict y las funciones text to sequences y pad_sequences\n",
        "\"\"\"\n",
        "seed_text = \"Help me Obi Wan Kenobi, you're my only hope\"\n",
        "next_words = 100\n",
        "\n",
        "for _ in range(next_words):\n",
        "\ttoken_list = # YOUR CODE HERE\n",
        "\ttoken_list = # YOUR CODE HERE\n",
        "\tpredicted = # YOUR CODE HERE\n",
        "\toutput_word = \"\"\n",
        "\tfor word, index in tokenizer.word_index.items():\n",
        "\t\tif index == predicted:\n",
        "\t\t\toutput_word = word\n",
        "\t\t\tbreak\n",
        "\tseed_text += \" \" + output_word\n",
        "\n",
        "print(seed_text)"
      ]
    }
  ],
  "metadata": {
    "colab": {
      "provenance": []
    },
    "kernelspec": {
      "display_name": "Python 3",
      "name": "python3"
    },
    "language_info": {
      "codemirror_mode": {
        "name": "ipython",
        "version": 3
      },
      "file_extension": ".py",
      "mimetype": "text/x-python",
      "name": "python",
      "nbconvert_exporter": "python",
      "pygments_lexer": "ipython3",
      "version": "3.8.11"
    }
  },
  "nbformat": 4,
  "nbformat_minor": 0
}
